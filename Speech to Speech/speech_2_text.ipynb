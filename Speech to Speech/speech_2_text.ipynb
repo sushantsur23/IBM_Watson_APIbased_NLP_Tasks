{
 "cells": [
  {
   "cell_type": "markdown",
   "metadata": {},
   "source": [
    "#### 1. Authenticate"
   ]
  },
  {
   "cell_type": "code",
   "execution_count": 7,
   "metadata": {},
   "outputs": [
    {
     "name": "stdout",
     "output_type": "stream",
     "text": [
      "Requirement already satisfied: ibm-watson in c:\\users\\susha\\miniconda3\\lib\\site-packages (6.1.0)\n",
      "Requirement already satisfied: python-dateutil>=2.5.3 in c:\\users\\susha\\miniconda3\\lib\\site-packages (from ibm-watson) (2.8.2)\n",
      "Requirement already satisfied: ibm-cloud-sdk-core==3.*,>=3.3.6 in c:\\users\\susha\\miniconda3\\lib\\site-packages (from ibm-watson) (3.16.0)\n",
      "Requirement already satisfied: websocket-client==1.1.0 in c:\\users\\susha\\miniconda3\\lib\\site-packages (from ibm-watson) (1.1.0)\n",
      "Requirement already satisfied: requests<3.0,>=2.0 in c:\\users\\susha\\miniconda3\\lib\\site-packages (from ibm-watson) (2.27.1)\n",
      "Requirement already satisfied: PyJWT<3.0.0,>=2.4.0 in c:\\users\\susha\\miniconda3\\lib\\site-packages (from ibm-cloud-sdk-core==3.*,>=3.3.6->ibm-watson) (2.4.0)\n",
      "Requirement already satisfied: urllib3<2.0.0,>=1.26.0 in c:\\users\\susha\\miniconda3\\lib\\site-packages (from ibm-cloud-sdk-core==3.*,>=3.3.6->ibm-watson) (1.26.6)\n",
      "Requirement already satisfied: six>=1.5 in c:\\users\\susha\\miniconda3\\lib\\site-packages (from python-dateutil>=2.5.3->ibm-watson) (1.16.0)\n",
      "Requirement already satisfied: idna<4,>=2.5 in c:\\users\\susha\\miniconda3\\lib\\site-packages (from requests<3.0,>=2.0->ibm-watson) (2.10)\n",
      "Requirement already satisfied: charset-normalizer~=2.0.0 in c:\\users\\susha\\miniconda3\\lib\\site-packages (from requests<3.0,>=2.0->ibm-watson) (2.0.4)\n",
      "Requirement already satisfied: certifi>=2017.4.17 in c:\\users\\susha\\miniconda3\\lib\\site-packages (from requests<3.0,>=2.0->ibm-watson) (2021.5.30)\n"
     ]
    }
   ],
   "source": [
    "!pip install ibm-watson"
   ]
  },
  {
   "cell_type": "code",
   "execution_count": 8,
   "metadata": {},
   "outputs": [
    {
     "name": "stdout",
     "output_type": "stream",
     "text": [
      "Requirement already satisfied: ibm-cloud-sdk-core in c:\\users\\susha\\miniconda3\\lib\\site-packages (3.16.0)\n",
      "Requirement already satisfied: urllib3<2.0.0,>=1.26.0 in c:\\users\\susha\\miniconda3\\lib\\site-packages (from ibm-cloud-sdk-core) (1.26.6)\n",
      "Requirement already satisfied: PyJWT<3.0.0,>=2.4.0 in c:\\users\\susha\\miniconda3\\lib\\site-packages (from ibm-cloud-sdk-core) (2.4.0)\n",
      "Requirement already satisfied: requests<3.0.0,>=2.26.0 in c:\\users\\susha\\miniconda3\\lib\\site-packages (from ibm-cloud-sdk-core) (2.27.1)\n",
      "Requirement already satisfied: python-dateutil<3.0.0,>=2.5.3 in c:\\users\\susha\\miniconda3\\lib\\site-packages (from ibm-cloud-sdk-core) (2.8.2)\n",
      "Requirement already satisfied: six>=1.5 in c:\\users\\susha\\miniconda3\\lib\\site-packages (from python-dateutil<3.0.0,>=2.5.3->ibm-cloud-sdk-core) (1.16.0)\n",
      "Requirement already satisfied: certifi>=2017.4.17 in c:\\users\\susha\\miniconda3\\lib\\site-packages (from requests<3.0.0,>=2.26.0->ibm-cloud-sdk-core) (2021.5.30)\n",
      "Requirement already satisfied: charset-normalizer~=2.0.0 in c:\\users\\susha\\miniconda3\\lib\\site-packages (from requests<3.0.0,>=2.26.0->ibm-cloud-sdk-core) (2.0.4)\n",
      "Requirement already satisfied: idna<4,>=2.5 in c:\\users\\susha\\miniconda3\\lib\\site-packages (from requests<3.0.0,>=2.26.0->ibm-cloud-sdk-core) (2.10)\n"
     ]
    }
   ],
   "source": [
    "!pip install ibm-cloud-sdk-core"
   ]
  },
  {
   "cell_type": "code",
   "execution_count": 9,
   "metadata": {},
   "outputs": [],
   "source": [
    "from ibm_watson import SpeechToTextV1, LanguageTranslatorV3    \n",
    "from ibm_cloud_sdk_core.authenticators import IAMAuthenticator"
   ]
  },
  {
   "cell_type": "markdown",
   "metadata": {},
   "source": [
    "##### 2 lines of text we will get from IBM service speech to text API keys\n",
    "  "
   ]
  },
  {
   "cell_type": "code",
   "execution_count": 10,
   "metadata": {},
   "outputs": [],
   "source": [
    "sttapikey = 'D9xM3AT3YexOnYeL_DhtO2hSJ0EzvGKpW0wN_eqScw7v'\n",
    "stturl = 'https://api.au-syd.speech-to-text.watson.cloud.ibm.com/instances/bfe3385d-cc02-43ca-92cc-d5c16b0dc076'"
   ]
  },
  {
   "cell_type": "code",
   "execution_count": 11,
   "metadata": {},
   "outputs": [],
   "source": [
    "ltauthenticator = IAMAuthenticator(ltapikey)\n",
    "lt = LanguageTranslatorV3(version='2018-05-01', authenticator=ltauthenticator)\n",
    "lt.set_service_url(lturl)"
   ]
  },
  {
   "cell_type": "code",
   "execution_count": 26,
   "metadata": {},
   "outputs": [],
   "source": [
    "sttauthenticator = IAMAuthenticator(sttapikey)\n",
    "stt = SpeechToTextV1(authenticator=sttauthenticator)\n",
    "stt.set_service_url(stturl)"
   ]
  },
  {
   "cell_type": "markdown",
   "metadata": {},
   "source": [
    "#### 2. Open Audio Source and Convert"
   ]
  },
  {
   "cell_type": "code",
   "execution_count": 36,
   "metadata": {},
   "outputs": [],
   "source": [
    "# Perform conversion\n",
    "with open('speech1.mp3', 'rb') as f:\n",
    "    res = stt.recognize(audio=f, content_type='audio/mp3', model='en-US_NarrowbandModel').get_result()"
   ]
  },
  {
   "cell_type": "code",
   "execution_count": 37,
   "metadata": {},
   "outputs": [
    {
     "data": {
      "text/plain": [
       "{'result_index': 0,\n",
       " 'results': [{'final': True,\n",
       "   'alternatives': [{'transcript': \"hi let's tackle another interesting topic today well which is of interest to us %HESITATION eventually and that subject is how do we H. A. G. P. H. can be a vote as well as in \",\n",
       "     'confidence': 0.74}]},\n",
       "  {'final': True,\n",
       "   'alternatives': [{'transcript': 'what %HESITATION scientists learning from animals to live a long time or ones that Dave sure hi what can we learn about aging ',\n",
       "     'confidence': 0.67}]},\n",
       "  {'final': True,\n",
       "   'alternatives': [{'transcript': \"hello I'm Henery %HESITATION you'll listening to adapt English \",\n",
       "     'confidence': 0.6}]},\n",
       "  {'final': True,\n",
       "   'alternatives': [{'transcript': 'we will help you to speak English fluently ',\n",
       "     'confidence': 1.0}]},\n",
       "  {'final': True,\n",
       "   'alternatives': [{'transcript': 'all you have to do is listen to stop listening now I find out how we ',\n",
       "     'confidence': 0.79}]},\n",
       "  {'final': True,\n",
       "   'alternatives': [{'transcript': 'so I ', 'confidence': 0.81}]},\n",
       "  {'final': True,\n",
       "   'alternatives': [{'transcript': \"we aim to keep the podcast interesting so that you'll motivated to you listen long enough to improve your English language \",\n",
       "     'confidence': 0.72}]},\n",
       "  {'final': True,\n",
       "   'alternatives': [{'transcript': 'if you like what to that English is doing one of the ways that you can support to us is to give us five stops on the platform that you listen on all give us a positive review that will help but that English be found by more people ',\n",
       "     'confidence': 0.81}]},\n",
       "  {'final': True,\n",
       "   'alternatives': [{'transcript': 'so thank you in advance for doing that and happy listening today so in January this year well no ',\n",
       "     'confidence': 0.77}]}]}"
      ]
     },
     "execution_count": 37,
     "metadata": {},
     "output_type": "execute_result"
    }
   ],
   "source": [
    "res"
   ]
  },
  {
   "cell_type": "code",
   "execution_count": 38,
   "metadata": {},
   "outputs": [
    {
     "data": {
      "text/plain": [
       "\"hi let's tackle another interesting topic today well which is of interest to us %HESITATION eventually and that subject is how do we H. A. G. P. H. can be a vote as well as in \""
      ]
     },
     "execution_count": 38,
     "metadata": {},
     "output_type": "execute_result"
    }
   ],
   "source": [
    "text = res['results'][0]['alternatives'][0]['transcript']\n",
    "text"
   ]
  },
  {
   "cell_type": "code",
   "execution_count": 39,
   "metadata": {},
   "outputs": [
    {
     "data": {
      "text/plain": [
       "0.74"
      ]
     },
     "execution_count": 39,
     "metadata": {},
     "output_type": "execute_result"
    }
   ],
   "source": [
    "#Check confidence interval\n",
    "confidence = res['results'][0]['alternatives'][0]['confidence']\n",
    "confidence"
   ]
  },
  {
   "cell_type": "code",
   "execution_count": 40,
   "metadata": {},
   "outputs": [],
   "source": [
    "with open('output.txt', 'w') as out:\n",
    "    out.writelines(text)"
   ]
  },
  {
   "cell_type": "markdown",
   "metadata": {},
   "source": [
    "#### 3. Change Language Models"
   ]
  },
  {
   "cell_type": "code",
   "execution_count": 42,
   "metadata": {},
   "outputs": [],
   "source": [
    "# Perform conversion\n",
    "with open('speech1.mp3', 'rb') as f:\n",
    "    res = stt.recognize(audio=f, content_type='audio/mp3', model='en-AU_NarrowbandModel').get_result()"
   ]
  },
  {
   "cell_type": "code",
   "execution_count": 43,
   "metadata": {},
   "outputs": [
    {
     "data": {
      "text/plain": [
       "{'result_index': 0,\n",
       " 'results': [{'final': True,\n",
       "   'alternatives': [{'transcript': \"hi there that's total another interesting topic today one which is of interest to us all eventually and that subject is how we age but A. G. E. so to age can be a verb as well as a matter what our scientists learning from animals who live a long time or ones that live short lives what can we learn about eighteen \",\n",
       "     'confidence': 0.83}]},\n",
       "  {'final': True,\n",
       "   'alternatives': [{'transcript': \"hello I'm hello read your listening to adapt English \",\n",
       "     'confidence': 0.85}]},\n",
       "  {'final': True,\n",
       "   'alternatives': [{'transcript': 'we will help you to speak English fluently ',\n",
       "     'confidence': 0.99}]},\n",
       "  {'final': True,\n",
       "   'alternatives': [{'transcript': 'or you have to do is listen to start listening now and find out how it works ',\n",
       "     'confidence': 0.91}]},\n",
       "  {'final': True,\n",
       "   'alternatives': [{'transcript': \"so are there for we aim to keep the pot custom interesting so that you're motivated to listen long enough to improve your English language \",\n",
       "     'confidence': 0.85}]},\n",
       "  {'final': True,\n",
       "   'alternatives': [{'transcript': 'if you like what the debt English is doing one of the ways that you can support us is to give us five stars on the platform that you listen on or give us a positive review that will help adapt English before owned by more people ',\n",
       "     'confidence': 0.9}]},\n",
       "  {'final': True,\n",
       "   'alternatives': [{'transcript': 'so thank you in advance for doing that and happy listening today so in January this year well not ',\n",
       "     'confidence': 0.91}]}]}"
      ]
     },
     "execution_count": 43,
     "metadata": {},
     "output_type": "execute_result"
    }
   ],
   "source": [
    "res"
   ]
  },
  {
   "cell_type": "code",
   "execution_count": null,
   "metadata": {},
   "outputs": [],
   "source": []
  }
 ],
 "metadata": {
  "kernelspec": {
   "display_name": "Python 3 (ipykernel)",
   "language": "python",
   "name": "python3"
  },
  "language_info": {
   "codemirror_mode": {
    "name": "ipython",
    "version": 3
   },
   "file_extension": ".py",
   "mimetype": "text/x-python",
   "name": "python",
   "nbconvert_exporter": "python",
   "pygments_lexer": "ipython3",
   "version": "3.9.12"
  },
  "vscode": {
   "interpreter": {
    "hash": "ad59e3735c180bf85280840859ca597dc2a71cb0dc18ffef2f37486fd3950a17"
   }
  }
 },
 "nbformat": 4,
 "nbformat_minor": 2
}
