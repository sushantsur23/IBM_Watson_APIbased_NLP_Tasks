{
 "cells": [
  {
   "cell_type": "markdown",
   "metadata": {},
   "source": [
    "#### Youtube-DL library is used to convert or download any youtube video"
   ]
  },
  {
   "cell_type": "code",
   "execution_count": 1,
   "metadata": {},
   "outputs": [
    {
     "name": "stdout",
     "output_type": "stream",
     "text": [
      "Requirement already satisfied: youtube-dl in c:\\users\\susha\\miniconda3\\lib\\site-packages (2021.12.17)\n"
     ]
    }
   ],
   "source": [
    "!pip install youtube-dl"
   ]
  },
  {
   "cell_type": "code",
   "execution_count": 2,
   "metadata": {},
   "outputs": [
    {
     "name": "stdout",
     "output_type": "stream",
     "text": [
      "[youtube] lkfxvoD_J0c: Downloading webpage\n",
      "[youtube] lkfxvoD_J0c: Downloading MPD manifest\n",
      "[download] Resuming download at byte 1078014\n",
      "[download] Destination: Use Advanced NLP and Tone Analysis to extract meaningful insights from a text file-lkfxvoD_J0c.mp4\n",
      "\n",
      "[download]  35.7% of 2.88MiB at  7.06KiB/s ETA 04:28\n",
      "[download]  35.8% of 2.88MiB at 21.19KiB/s ETA 01:29\n",
      "[download]  35.9% of 2.88MiB at 49.44KiB/s ETA 00:38\n",
      "[download]  36.2% of 2.88MiB at 105.95KiB/s ETA 00:17\n",
      "[download]  36.8% of 2.88MiB at 86.12KiB/s ETA 00:21 \n",
      "[download]  37.8% of 2.88MiB at 80.42KiB/s ETA 00:22 \n",
      "[download]  40.0% of 2.88MiB at 77.89KiB/s ETA 00:22 \n",
      "[download]  42.6% of 2.88MiB at 75.55KiB/s ETA 00:22 \n",
      "[download]  45.0% of 2.88MiB at 73.56KiB/s ETA 00:22 \n",
      "[download]  47.3% of 2.88MiB at 74.90KiB/s ETA 00:20 \n",
      "[download]  50.1% of 2.88MiB at 75.29KiB/s ETA 00:19 \n",
      "[download]  52.7% of 2.88MiB at 74.97KiB/s ETA 00:18 \n",
      "[download]  55.2% of 2.88MiB at 76.27KiB/s ETA 00:17 \n",
      "[download]  58.1% of 2.88MiB at 75.05KiB/s ETA 00:16 \n",
      "[download]  60.4% of 2.88MiB at 75.51KiB/s ETA 00:15 \n",
      "[download]  63.1% of 2.88MiB at 75.59KiB/s ETA 00:14 \n",
      "[download]  65.7% of 2.88MiB at 75.33KiB/s ETA 00:13 \n",
      "[download]  68.2% of 2.88MiB at 76.03KiB/s ETA 00:12 \n",
      "[download]  71.1% of 2.88MiB at 75.01KiB/s ETA 00:11 \n",
      "[download]  73.3% of 2.88MiB at 75.12KiB/s ETA 00:10 \n",
      "[download]  75.9% of 2.88MiB at 75.97KiB/s ETA 00:09 \n",
      "[download]  79.0% of 2.88MiB at 75.64KiB/s ETA 00:08 \n",
      "[download]  81.4% of 2.88MiB at 75.19KiB/s ETA 00:07 \n",
      "[download]  83.7% of 2.88MiB at 75.43KiB/s ETA 00:06 \n",
      "[download]  86.4% of 2.88MiB at 75.49KiB/s ETA 00:05 \n",
      "[download]  89.0% of 2.88MiB at 75.35KiB/s ETA 00:04 \n",
      "[download]  91.5% of 2.88MiB at 75.71KiB/s ETA 00:03 \n",
      "[download]  94.4% of 2.88MiB at 75.92KiB/s ETA 00:02 \n",
      "[download]  97.1% of 2.88MiB at 75.95KiB/s ETA 00:01 \n",
      "[download]  99.7% of 2.88MiB at 75.77KiB/s ETA 00:00 \n",
      "[download] 100.0% of 2.88MiB at 75.95KiB/s ETA 00:00 \n",
      "[download] 100% of 2.88MiB in 00:25                  \n"
     ]
    }
   ],
   "source": [
    "!youtube-dl https://www.youtube.com/watch?v=lkfxvoD_J0c"
   ]
  },
  {
   "cell_type": "markdown",
   "metadata": {},
   "source": [
    "#### FFMpeg library helps to work with all kind of video and audio files"
   ]
  },
  {
   "cell_type": "code",
   "execution_count": 3,
   "metadata": {},
   "outputs": [
    {
     "name": "stdout",
     "output_type": "stream",
     "text": [
      "Requirement already satisfied: ibm_watson in c:\\users\\susha\\miniconda3\\lib\\site-packages (6.1.0)\n",
      "Requirement already satisfied: requests<3.0,>=2.0 in c:\\users\\susha\\miniconda3\\lib\\site-packages (from ibm_watson) (2.27.1)\n",
      "Requirement already satisfied: python-dateutil>=2.5.3 in c:\\users\\susha\\miniconda3\\lib\\site-packages (from ibm_watson) (2.8.2)\n",
      "Requirement already satisfied: ibm-cloud-sdk-core==3.*,>=3.3.6 in c:\\users\\susha\\miniconda3\\lib\\site-packages (from ibm_watson) (3.16.0)\n",
      "Requirement already satisfied: websocket-client==1.1.0 in c:\\users\\susha\\miniconda3\\lib\\site-packages (from ibm_watson) (1.1.0)\n",
      "Requirement already satisfied: PyJWT<3.0.0,>=2.4.0 in c:\\users\\susha\\miniconda3\\lib\\site-packages (from ibm-cloud-sdk-core==3.*,>=3.3.6->ibm_watson) (2.4.0)\n",
      "Requirement already satisfied: urllib3<2.0.0,>=1.26.0 in c:\\users\\susha\\miniconda3\\lib\\site-packages (from ibm-cloud-sdk-core==3.*,>=3.3.6->ibm_watson) (1.26.6)\n",
      "Requirement already satisfied: six>=1.5 in c:\\users\\susha\\miniconda3\\lib\\site-packages (from python-dateutil>=2.5.3->ibm_watson) (1.16.0)\n",
      "Requirement already satisfied: charset-normalizer~=2.0.0 in c:\\users\\susha\\miniconda3\\lib\\site-packages (from requests<3.0,>=2.0->ibm_watson) (2.0.4)\n",
      "Requirement already satisfied: idna<4,>=2.5 in c:\\users\\susha\\miniconda3\\lib\\site-packages (from requests<3.0,>=2.0->ibm_watson) (2.10)\n",
      "Requirement already satisfied: certifi>=2017.4.17 in c:\\users\\susha\\miniconda3\\lib\\site-packages (from requests<3.0,>=2.0->ibm_watson) (2021.5.30)\n",
      "Requirement already satisfied: ffmpeg in c:\\users\\susha\\miniconda3\\lib\\site-packages (1.4)\n"
     ]
    }
   ],
   "source": [
    "!pip install ibm_watson\n",
    "!pip install ffmpeg"
   ]
  },
  {
   "cell_type": "code",
   "execution_count": 4,
   "metadata": {},
   "outputs": [],
   "source": [
    "import subprocess\n",
    "from ibm_watson import SpeechToTextV1\n",
    "from ibm_watson.websocket import RecognizeCallback, AudioSource\n",
    "from ibm_cloud_sdk_core.authenticators import IAMAuthenticator"
   ]
  },
  {
   "cell_type": "markdown",
   "metadata": {},
   "source": [
    "#### 1. Extract Audio"
   ]
  },
  {
   "cell_type": "code",
   "execution_count": 5,
   "metadata": {},
   "outputs": [
    {
     "data": {
      "text/plain": [
       "1"
      ]
     },
     "execution_count": 5,
     "metadata": {},
     "output_type": "execute_result"
    }
   ],
   "source": [
    "#subprocess is required for audio extraction\n",
    "command = 'ffmpeg -i video1.mp4 -ab 160k -ar 44100 -vn audio.wav'\n",
    "subprocess.call(command, shell=True)"
   ]
  },
  {
   "cell_type": "code",
   "execution_count": 6,
   "metadata": {},
   "outputs": [],
   "source": [
    "# Since the above method was not working hence we have used another library for the same task."
   ]
  },
  {
   "cell_type": "code",
   "execution_count": 7,
   "metadata": {},
   "outputs": [
    {
     "name": "stdout",
     "output_type": "stream",
     "text": [
      "Requirement already satisfied: moviepy in c:\\users\\susha\\miniconda3\\lib\\site-packages (1.0.3)\n",
      "Requirement already satisfied: numpy>=1.17.3 in c:\\users\\susha\\miniconda3\\lib\\site-packages (from moviepy) (1.22.4)\n",
      "Requirement already satisfied: decorator<5.0,>=4.0.2 in c:\\users\\susha\\miniconda3\\lib\\site-packages (from moviepy) (4.4.2)\n",
      "Requirement already satisfied: requests<3.0,>=2.8.1 in c:\\users\\susha\\miniconda3\\lib\\site-packages (from moviepy) (2.27.1)\n",
      "Requirement already satisfied: imageio-ffmpeg>=0.2.0 in c:\\users\\susha\\miniconda3\\lib\\site-packages (from moviepy) (0.4.7)\n",
      "Requirement already satisfied: tqdm<5.0,>=4.11.2 in c:\\users\\susha\\miniconda3\\lib\\site-packages (from moviepy) (4.63.0)\n",
      "Requirement already satisfied: proglog<=1.0.0 in c:\\users\\susha\\miniconda3\\lib\\site-packages (from moviepy) (0.1.10)\n",
      "Requirement already satisfied: imageio<3.0,>=2.5 in c:\\users\\susha\\miniconda3\\lib\\site-packages (from moviepy) (2.21.1)\n",
      "Requirement already satisfied: pillow>=8.3.2 in c:\\users\\susha\\miniconda3\\lib\\site-packages (from imageio<3.0,>=2.5->moviepy) (8.4.0)\n",
      "Requirement already satisfied: urllib3<1.27,>=1.21.1 in c:\\users\\susha\\miniconda3\\lib\\site-packages (from requests<3.0,>=2.8.1->moviepy) (1.26.6)\n",
      "Requirement already satisfied: idna<4,>=2.5 in c:\\users\\susha\\miniconda3\\lib\\site-packages (from requests<3.0,>=2.8.1->moviepy) (2.10)\n",
      "Requirement already satisfied: charset-normalizer~=2.0.0 in c:\\users\\susha\\miniconda3\\lib\\site-packages (from requests<3.0,>=2.8.1->moviepy) (2.0.4)\n",
      "Requirement already satisfied: certifi>=2017.4.17 in c:\\users\\susha\\miniconda3\\lib\\site-packages (from requests<3.0,>=2.8.1->moviepy) (2021.5.30)\n",
      "Requirement already satisfied: colorama in c:\\users\\susha\\miniconda3\\lib\\site-packages (from tqdm<5.0,>=4.11.2->moviepy) (0.4.4)\n"
     ]
    }
   ],
   "source": [
    "!pip install moviepy"
   ]
  },
  {
   "cell_type": "code",
   "execution_count": 8,
   "metadata": {},
   "outputs": [
    {
     "name": "stdout",
     "output_type": "stream",
     "text": [
      "MoviePy - Writing audio in audio.mp3\n"
     ]
    },
    {
     "name": "stderr",
     "output_type": "stream",
     "text": [
      "                                                                                                                                                    "
     ]
    },
    {
     "name": "stdout",
     "output_type": "stream",
     "text": [
      "MoviePy - Done.\n"
     ]
    },
    {
     "name": "stderr",
     "output_type": "stream",
     "text": [
      "\r"
     ]
    }
   ],
   "source": [
    "from moviepy.editor import VideoFileClip\n",
    "output_ext=\"mp3\"\n",
    "filename=\"audio\"\n",
    "\n",
    "clip = VideoFileClip(\"video.mp4\")\n",
    "clip.audio.write_audiofile(f\"{filename}.{output_ext}\")"
   ]
  },
  {
   "cell_type": "markdown",
   "metadata": {},
   "source": [
    "#### 2. Setup STT Service"
   ]
  },
  {
   "cell_type": "code",
   "execution_count": 9,
   "metadata": {},
   "outputs": [],
   "source": [
    "apikey = 'Speech to text API key'\n",
    "url = 'Speech to text URL'"
   ]
  },
  {
   "cell_type": "code",
   "execution_count": 10,
   "metadata": {},
   "outputs": [],
   "source": [
    "# Setup service\n",
    "authenticator = IAMAuthenticator(apikey)\n",
    "stt = SpeechToTextV1(authenticator=authenticator)\n",
    "stt.set_service_url(url)"
   ]
  },
  {
   "cell_type": "markdown",
   "metadata": {},
   "source": [
    "#### 3. Open Audio Source and Convert"
   ]
  },
  {
   "cell_type": "code",
   "execution_count": 11,
   "metadata": {},
   "outputs": [],
   "source": [
    "with open('audio.mp3', 'rb') as f:\n",
    "    res = stt.recognize(audio=f, content_type='audio/mp3', model='en-AU_NarrowbandModel').get_result()"
   ]
  },
  {
   "cell_type": "code",
   "execution_count": 12,
   "metadata": {},
   "outputs": [
    {
     "data": {
      "text/plain": [
       "{'result_index': 0,\n",
       " 'results': [{'final': True,\n",
       "   'alternatives': [{'transcript': 'definitely ask for my account ',\n",
       "     'confidence': 0.51}]},\n",
       "  {'final': True,\n",
       "   'alternatives': [{'transcript': \"they're now state out of this bathroom until I say so \",\n",
       "     'confidence': 0.81}]},\n",
       "  {'final': True,\n",
       "   'alternatives': [{'transcript': 'and what was the numbers ',\n",
       "     'confidence': 0.59}]},\n",
       "  {'final': True,\n",
       "   'alternatives': [{'transcript': 'having your order ', 'confidence': 0.49}]},\n",
       "  {'final': True,\n",
       "   'alternatives': [{'transcript': 'wow until you write off Mr ',\n",
       "     'confidence': 0.76}]},\n",
       "  {'final': True,\n",
       "   'alternatives': [{'transcript': 'only one %HESITATION loving trance liking ',\n",
       "     'confidence': 0.62}]},\n",
       "  {'final': True,\n",
       "   'alternatives': [{'transcript': \"paediatrician now what I'm appreciable importantly my store in Forest now Mister \",\n",
       "     'confidence': 0.69}]},\n",
       "  {'final': True,\n",
       "   'alternatives': [{'transcript': \"in my power I can't sold at my \",\n",
       "     'confidence': 0.75}]}]}"
      ]
     },
     "execution_count": 12,
     "metadata": {},
     "output_type": "execute_result"
    }
   ],
   "source": [
    "res"
   ]
  },
  {
   "cell_type": "markdown",
   "metadata": {},
   "source": [
    "#### 4. Process Results and Output to Text"
   ]
  },
  {
   "cell_type": "code",
   "execution_count": 13,
   "metadata": {},
   "outputs": [
    {
     "data": {
      "text/plain": [
       "8"
      ]
     },
     "execution_count": 13,
     "metadata": {},
     "output_type": "execute_result"
    }
   ],
   "source": [
    "len(res['results'])"
   ]
  },
  {
   "cell_type": "code",
   "execution_count": 14,
   "metadata": {},
   "outputs": [],
   "source": [
    "text = [result['alternatives'][0]['transcript'].rstrip() + '.\\n' for result in res['results']]"
   ]
  },
  {
   "cell_type": "code",
   "execution_count": 15,
   "metadata": {},
   "outputs": [],
   "source": [
    "text = [para[0].title() + para[1:] for para in text]\n",
    "transcript = ''.join(text)\n",
    "with open('output.txt', 'w') as out:\n",
    "    out.writelines(transcript)"
   ]
  },
  {
   "cell_type": "code",
   "execution_count": 16,
   "metadata": {},
   "outputs": [
    {
     "data": {
      "text/plain": [
       "\"Definitely ask for my account.\\nThey're now state out of this bathroom until I say so.\\nAnd what was the numbers.\\nHaving your order.\\nWow until you write off Mr.\\nOnly one %HESITATION loving trance liking.\\nPaediatrician now what I'm appreciable importantly my store in Forest now Mister.\\nIn my power I can't sold at my.\\n\""
      ]
     },
     "execution_count": 16,
     "metadata": {},
     "output_type": "execute_result"
    }
   ],
   "source": [
    "transcript"
   ]
  },
  {
   "cell_type": "code",
   "execution_count": null,
   "metadata": {},
   "outputs": [],
   "source": []
  }
 ],
 "metadata": {
  "kernelspec": {
   "display_name": "Python 3 (ipykernel)",
   "language": "python",
   "name": "python3"
  },
  "language_info": {
   "codemirror_mode": {
    "name": "ipython",
    "version": 3
   },
   "file_extension": ".py",
   "mimetype": "text/x-python",
   "name": "python",
   "nbconvert_exporter": "python",
   "pygments_lexer": "ipython3",
   "version": "3.9.12"
  },
  "vscode": {
   "interpreter": {
    "hash": "ad59e3735c180bf85280840859ca597dc2a71cb0dc18ffef2f37486fd3950a17"
   }
  }
 },
 "nbformat": 4,
 "nbformat_minor": 2
}
