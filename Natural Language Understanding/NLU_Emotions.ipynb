{
 "cells": [
  {
   "cell_type": "code",
   "execution_count": 1,
   "id": "e5d442c3",
   "metadata": {},
   "outputs": [],
   "source": [
    "import json\n",
    "from ibm_watson import NaturalLanguageUnderstandingV1\n",
    "from ibm_cloud_sdk_core.authenticators import IAMAuthenticator\n",
    "from ibm_watson.natural_language_understanding_v1 import Features, EmotionOptions"
   ]
  },
  {
   "cell_type": "code",
   "execution_count": 10,
   "id": "33e05fe2",
   "metadata": {},
   "outputs": [],
   "source": [
    "apikey = \"api key\"\n",
    "apiurl = \"api url\""
   ]
  },
  {
   "cell_type": "code",
   "execution_count": 3,
   "id": "d29a5fac",
   "metadata": {},
   "outputs": [],
   "source": [
    "authenticator = IAMAuthenticator(apikey)\n",
    "natural_language_understanding = NaturalLanguageUnderstandingV1(\n",
    "    version='2022-04-07',\n",
    "    authenticator=authenticator\n",
    ")"
   ]
  },
  {
   "cell_type": "code",
   "execution_count": 5,
   "id": "030b8d57",
   "metadata": {},
   "outputs": [],
   "source": [
    "natural_language_understanding.set_service_url(apiurl)\n"
   ]
  },
  {
   "cell_type": "code",
   "execution_count": 6,
   "id": "f8ccea92",
   "metadata": {},
   "outputs": [],
   "source": [
    "response = natural_language_understanding.analyze(\n",
    "    html=\"<html><head><title>Fruits</title></head><body><h1>Apples and Oranges</h1><p>I love apples! I don't like oranges.</p></body></html>\",\n",
    "    features=Features(emotion=EmotionOptions(targets=['apples','oranges']))).get_result()"
   ]
  },
  {
   "cell_type": "code",
   "execution_count": 9,
   "id": "29daaf9d",
   "metadata": {},
   "outputs": [
    {
     "name": "stdout",
     "output_type": "stream",
     "text": [
      "{\n",
      "  \"usage\": {\n",
      "    \"text_units\": 1,\n",
      "    \"text_characters\": 37,\n",
      "    \"features\": 1\n",
      "  },\n",
      "  \"language\": \"en\",\n",
      "  \"emotion\": {\n",
      "    \"targets\": [\n",
      "      {\n",
      "        \"text\": \"apples\",\n",
      "        \"emotion\": {\n",
      "          \"sadness\": 0.020855,\n",
      "          \"joy\": 0.988253,\n",
      "          \"fear\": 0.075412,\n",
      "          \"disgust\": 0.016976,\n",
      "          \"anger\": 0.016175\n",
      "        }\n",
      "      },\n",
      "      {\n",
      "        \"text\": \"oranges\",\n",
      "        \"emotion\": {\n",
      "          \"sadness\": 0.244236,\n",
      "          \"joy\": 0.075461,\n",
      "          \"fear\": 0.044636,\n",
      "          \"disgust\": 0.038048,\n",
      "          \"anger\": 0.025962\n",
      "        }\n",
      "      }\n",
      "    ],\n",
      "    \"document\": {\n",
      "      \"emotion\": {\n",
      "        \"sadness\": 0.132545,\n",
      "        \"joy\": 0.531857,\n",
      "        \"fear\": 0.060024,\n",
      "        \"disgust\": 0.027512,\n",
      "        \"anger\": 0.021068\n",
      "      }\n",
      "    }\n",
      "  }\n",
      "}\n"
     ]
    }
   ],
   "source": [
    "print(json.dumps(response, indent=2))"
   ]
  },
  {
   "cell_type": "code",
   "execution_count": null,
   "id": "d6ed71d0",
   "metadata": {},
   "outputs": [],
   "source": []
  }
 ],
 "metadata": {
  "kernelspec": {
   "display_name": "Python 3 (ipykernel)",
   "language": "python",
   "name": "python3"
  },
  "language_info": {
   "codemirror_mode": {
    "name": "ipython",
    "version": 3
   },
   "file_extension": ".py",
   "mimetype": "text/x-python",
   "name": "python",
   "nbconvert_exporter": "python",
   "pygments_lexer": "ipython3",
   "version": "3.9.12"
  }
 },
 "nbformat": 4,
 "nbformat_minor": 5
}
