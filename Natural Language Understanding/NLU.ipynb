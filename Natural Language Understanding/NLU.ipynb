{
 "cells": [
  {
   "cell_type": "code",
   "execution_count": 1,
   "metadata": {},
   "outputs": [
    {
     "name": "stdout",
     "output_type": "stream",
     "text": [
      "Requirement already satisfied: ibm-watson>=6.0.0 in c:\\users\\susha\\miniconda3\\lib\\site-packages (6.1.0)\n",
      "Requirement already satisfied: ibm-cloud-sdk-core==3.*,>=3.3.6 in c:\\users\\susha\\miniconda3\\lib\\site-packages (from ibm-watson>=6.0.0) (3.16.0)\n",
      "Requirement already satisfied: requests<3.0,>=2.0 in c:\\users\\susha\\miniconda3\\lib\\site-packages (from ibm-watson>=6.0.0) (2.27.1)\n",
      "Requirement already satisfied: websocket-client==1.1.0 in c:\\users\\susha\\miniconda3\\lib\\site-packages (from ibm-watson>=6.0.0) (1.1.0)\n",
      "Requirement already satisfied: python-dateutil>=2.5.3 in c:\\users\\susha\\miniconda3\\lib\\site-packages (from ibm-watson>=6.0.0) (2.8.2)\n",
      "Requirement already satisfied: urllib3<2.0.0,>=1.26.0 in c:\\users\\susha\\miniconda3\\lib\\site-packages (from ibm-cloud-sdk-core==3.*,>=3.3.6->ibm-watson>=6.0.0) (1.26.6)\n",
      "Requirement already satisfied: PyJWT<3.0.0,>=2.4.0 in c:\\users\\susha\\miniconda3\\lib\\site-packages (from ibm-cloud-sdk-core==3.*,>=3.3.6->ibm-watson>=6.0.0) (2.4.0)\n",
      "Requirement already satisfied: six>=1.5 in c:\\users\\susha\\miniconda3\\lib\\site-packages (from python-dateutil>=2.5.3->ibm-watson>=6.0.0) (1.16.0)\n",
      "Requirement already satisfied: certifi>=2017.4.17 in c:\\users\\susha\\miniconda3\\lib\\site-packages (from requests<3.0,>=2.0->ibm-watson>=6.0.0) (2021.5.30)\n",
      "Requirement already satisfied: charset-normalizer~=2.0.0 in c:\\users\\susha\\miniconda3\\lib\\site-packages (from requests<3.0,>=2.0->ibm-watson>=6.0.0) (2.0.4)\n",
      "Requirement already satisfied: idna<4,>=2.5 in c:\\users\\susha\\miniconda3\\lib\\site-packages (from requests<3.0,>=2.0->ibm-watson>=6.0.0) (2.10)\n"
     ]
    }
   ],
   "source": [
    "!pip install --upgrade \"ibm-watson>=6.0.0\""
   ]
  },
  {
   "cell_type": "markdown",
   "metadata": {},
   "source": [
    "#### Categories feature request"
   ]
  },
  {
   "cell_type": "code",
   "execution_count": 3,
   "metadata": {},
   "outputs": [],
   "source": [
    "import json\n",
    "from ibm_watson import NaturalLanguageUnderstandingV1\n",
    "from ibm_cloud_sdk_core.authenticators import IAMAuthenticator\n",
    "from ibm_watson.natural_language_understanding_v1 import Features, CategoriesOptions"
   ]
  },
  {
   "cell_type": "code",
   "execution_count": 10,
   "metadata": {},
   "outputs": [],
   "source": [
    "apikey = \"gcQMeV6S2x6EccAvcY-gthQbgfkRjiHaga-6BFB2pa39\"\n",
    "apiurl = \"https://api.au-syd.natural-language-understanding.watson.cloud.ibm.com/instances/faaf6789-8c1c-411c-990a-e28273e288e2\""
   ]
  },
  {
   "cell_type": "code",
   "execution_count": 8,
   "metadata": {},
   "outputs": [],
   "source": [
    "authenticator = IAMAuthenticator(apikey)\n",
    "natural_language_understanding = NaturalLanguageUnderstandingV1(\n",
    "    version='2022-04-07',\n",
    "    authenticator=authenticator\n",
    ")"
   ]
  },
  {
   "cell_type": "code",
   "execution_count": 11,
   "metadata": {},
   "outputs": [],
   "source": [
    "natural_language_understanding.set_service_url(apiurl)\n",
    "\n",
    "response = natural_language_understanding.analyze(\n",
    "    url='www.ibm.com',features=Features(categories=CategoriesOptions(limit=3))).get_result()"
   ]
  },
  {
   "cell_type": "code",
   "execution_count": 12,
   "metadata": {},
   "outputs": [
    {
     "name": "stdout",
     "output_type": "stream",
     "text": [
      "{\n",
      "  \"usage\": {\n",
      "    \"text_units\": 1,\n",
      "    \"text_characters\": 1890,\n",
      "    \"features\": 1\n",
      "  },\n",
      "  \"retrieved_url\": \"https://www.ibm.com/au-en\",\n",
      "  \"language\": \"en\",\n",
      "  \"categories\": [\n",
      "    {\n",
      "      \"score\": 0.974466,\n",
      "      \"label\": \"/technology & computing/computing/data storage and warehousing\"\n",
      "    },\n",
      "    {\n",
      "      \"score\": 0.878705,\n",
      "      \"label\": \"/technology & computing/computing/computer software and applications\"\n",
      "    },\n",
      "    {\n",
      "      \"score\": 0.872859,\n",
      "      \"label\": \"/technology & computing/computing/information and network security\"\n",
      "    }\n",
      "  ]\n",
      "}\n"
     ]
    }
   ],
   "source": [
    "print(json.dumps(response, indent=2))"
   ]
  },
  {
   "cell_type": "code",
   "execution_count": null,
   "metadata": {},
   "outputs": [],
   "source": []
  }
 ],
 "metadata": {
  "kernelspec": {
   "display_name": "Python 3 (ipykernel)",
   "language": "python",
   "name": "python3"
  },
  "language_info": {
   "codemirror_mode": {
    "name": "ipython",
    "version": 3
   },
   "file_extension": ".py",
   "mimetype": "text/x-python",
   "name": "python",
   "nbconvert_exporter": "python",
   "pygments_lexer": "ipython3",
   "version": "3.9.12"
  }
 },
 "nbformat": 4,
 "nbformat_minor": 2
}
