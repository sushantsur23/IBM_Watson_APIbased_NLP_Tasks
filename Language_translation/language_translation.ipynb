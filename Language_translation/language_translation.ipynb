{
 "cells": [
  {
   "cell_type": "markdown",
   "metadata": {},
   "source": [
    "https://cloud.ibm.com/catalog/services/language-translator"
   ]
  },
  {
   "cell_type": "code",
   "execution_count": 1,
   "metadata": {},
   "outputs": [
    {
     "name": "stdout",
     "output_type": "stream",
     "text": [
      "Requirement already satisfied: ibm_watson in c:\\users\\susha\\miniconda3\\lib\\site-packages (6.1.0)\n",
      "Requirement already satisfied: ibm-cloud-sdk-core==3.*,>=3.3.6 in c:\\users\\susha\\miniconda3\\lib\\site-packages (from ibm_watson) (3.16.0)\n",
      "Requirement already satisfied: python-dateutil>=2.5.3 in c:\\users\\susha\\miniconda3\\lib\\site-packages (from ibm_watson) (2.8.2)\n",
      "Requirement already satisfied: requests<3.0,>=2.0 in c:\\users\\susha\\miniconda3\\lib\\site-packages (from ibm_watson) (2.27.1)\n",
      "Requirement already satisfied: websocket-client==1.1.0 in c:\\users\\susha\\miniconda3\\lib\\site-packages (from ibm_watson) (1.1.0)\n",
      "Requirement already satisfied: urllib3<2.0.0,>=1.26.0 in c:\\users\\susha\\miniconda3\\lib\\site-packages (from ibm-cloud-sdk-core==3.*,>=3.3.6->ibm_watson) (1.26.6)\n",
      "Requirement already satisfied: PyJWT<3.0.0,>=2.4.0 in c:\\users\\susha\\miniconda3\\lib\\site-packages (from ibm-cloud-sdk-core==3.*,>=3.3.6->ibm_watson) (2.4.0)\n",
      "Requirement already satisfied: six>=1.5 in c:\\users\\susha\\miniconda3\\lib\\site-packages (from python-dateutil>=2.5.3->ibm_watson) (1.16.0)\n",
      "Requirement already satisfied: charset-normalizer~=2.0.0 in c:\\users\\susha\\miniconda3\\lib\\site-packages (from requests<3.0,>=2.0->ibm_watson) (2.0.4)\n",
      "Requirement already satisfied: idna<4,>=2.5 in c:\\users\\susha\\miniconda3\\lib\\site-packages (from requests<3.0,>=2.0->ibm_watson) (2.10)\n",
      "Requirement already satisfied: certifi>=2017.4.17 in c:\\users\\susha\\miniconda3\\lib\\site-packages (from requests<3.0,>=2.0->ibm_watson) (2021.5.30)\n"
     ]
    }
   ],
   "source": [
    "!pip install ibm_watson"
   ]
  },
  {
   "cell_type": "markdown",
   "metadata": {},
   "source": [
    "#### 1. Authenticate"
   ]
  },
  {
   "cell_type": "code",
   "execution_count": 2,
   "metadata": {},
   "outputs": [],
   "source": [
    "apikey = 'Update Key'\n",
    "url = 'Update URL'"
   ]
  },
  {
   "cell_type": "code",
   "execution_count": 3,
   "metadata": {},
   "outputs": [],
   "source": [
    "# import deps\n",
    "from ibm_watson import LanguageTranslatorV3\n",
    "from ibm_cloud_sdk_core.authenticators import IAMAuthenticator"
   ]
  },
  {
   "cell_type": "code",
   "execution_count": 4,
   "metadata": {},
   "outputs": [],
   "source": [
    "# Setup service\n",
    "authenticator = IAMAuthenticator(apikey)\n",
    "lt = LanguageTranslatorV3(version='2018-05-01', authenticator=authenticator)\n",
    "lt.set_service_url(url)"
   ]
  },
  {
   "cell_type": "markdown",
   "metadata": {},
   "source": [
    "#### 2. Translate"
   ]
  },
  {
   "cell_type": "code",
   "execution_count": 5,
   "metadata": {},
   "outputs": [],
   "source": [
    "translation = lt.translate(text='I am working from home.', model_id='en-de').get_result()"
   ]
  },
  {
   "cell_type": "code",
   "execution_count": 6,
   "metadata": {},
   "outputs": [
    {
     "data": {
      "text/plain": [
       "{'translations': [{'translation': 'Ich arbeite von zu Hause aus.'}],\n",
       " 'word_count': 6,\n",
       " 'character_count': 23}"
      ]
     },
     "execution_count": 6,
     "metadata": {},
     "output_type": "execute_result"
    }
   ],
   "source": [
    "translation"
   ]
  },
  {
   "cell_type": "code",
   "execution_count": 7,
   "metadata": {},
   "outputs": [
    {
     "data": {
      "text/plain": [
       "'Ich arbeite von zu Hause aus.'"
      ]
     },
     "execution_count": 7,
     "metadata": {},
     "output_type": "execute_result"
    }
   ],
   "source": [
    "translation['translations'][0]['translation']"
   ]
  },
  {
   "cell_type": "markdown",
   "metadata": {},
   "source": [
    "#### 3. Identify Languages"
   ]
  },
  {
   "cell_type": "code",
   "execution_count": 8,
   "metadata": {},
   "outputs": [],
   "source": [
    "language = lt.identify('У меня большая семья из шести человек: я, мама, папа, старшая').get_result()"
   ]
  },
  {
   "cell_type": "markdown",
   "metadata": {},
   "source": [
    "#Languages supported are as per below link\n",
    "https://cloud.ibm.com/docs/text-to-speech?topic=text-to-speech-voices"
   ]
  },
  {
   "cell_type": "code",
   "execution_count": 9,
   "metadata": {},
   "outputs": [
    {
     "data": {
      "text/plain": [
       "{'languages': [{'language': 'ru', 'confidence': 0.995464839367054},\n",
       "  {'language': 'be', 'confidence': 0.004298180690693959},\n",
       "  {'language': 'sr', 'confidence': 0.00010469540213126631},\n",
       "  {'language': 'uk', 'confidence': 7.404232808059109e-05},\n",
       "  {'language': 'ky', 'confidence': 3.6360887744551106e-05},\n",
       "  {'language': 'cv', 'confidence': 1.706360837343536e-05},\n",
       "  {'language': 'kk', 'confidence': 3.1814352342237415e-06},\n",
       "  {'language': 'ba', 'confidence': 8.445800524059879e-07},\n",
       "  {'language': 'bg', 'confidence': 6.253872128236285e-07},\n",
       "  {'language': 'mn', 'confidence': 1.6630977208895593e-07},\n",
       "  {'language': 'zh-TW', 'confidence': 3.66930388947429e-13},\n",
       "  {'language': 'mr', 'confidence': 2.5397942661908697e-13},\n",
       "  {'language': 'ko', 'confidence': 2.115283606730067e-13},\n",
       "  {'language': 'gu', 'confidence': 1.6578581681592064e-13},\n",
       "  {'language': 'et', 'confidence': 1.5513988008637045e-13},\n",
       "  {'language': 'te', 'confidence': 1.4403159868560767e-13},\n",
       "  {'language': 'lo', 'confidence': 1.4389552236665683e-13},\n",
       "  {'language': 'ne', 'confidence': 1.4178810136503427e-13},\n",
       "  {'language': 'si', 'confidence': 1.278191984858118e-13},\n",
       "  {'language': 'hy', 'confidence': 1.1286983787142308e-13},\n",
       "  {'language': 'ca', 'confidence': 1.0578298489274911e-13},\n",
       "  {'language': 'hi', 'confidence': 9.400759066765607e-14},\n",
       "  {'language': 'bn', 'confidence': 9.115766640130815e-14},\n",
       "  {'language': 'lv', 'confidence': 8.677225382359731e-14},\n",
       "  {'language': 'pa', 'confidence': 7.554343519723158e-14},\n",
       "  {'language': 'ga', 'confidence': 6.877774937071561e-14},\n",
       "  {'language': 'km', 'confidence': 6.77794961586392e-14},\n",
       "  {'language': 'lt', 'confidence': 6.58626778509647e-14},\n",
       "  {'language': 'zh', 'confidence': 6.140240769207348e-14},\n",
       "  {'language': 'tl', 'confidence': 5.734817526919318e-14},\n",
       "  {'language': 'az', 'confidence': 5.561589144735882e-14},\n",
       "  {'language': 'ur', 'confidence': 5.407447012267346e-14},\n",
       "  {'language': 'pa-PK', 'confidence': 5.2130485156798016e-14},\n",
       "  {'language': 'ml', 'confidence': 5.106752672128768e-14},\n",
       "  {'language': 'ka', 'confidence': 4.6801122594035587e-14},\n",
       "  {'language': 'my', 'confidence': 4.216378620692277e-14},\n",
       "  {'language': 'he', 'confidence': 3.8937950454889004e-14},\n",
       "  {'language': 'mt', 'confidence': 3.848990003768537e-14},\n",
       "  {'language': 'th', 'confidence': 3.607152556036463e-14},\n",
       "  {'language': 'ht', 'confidence': 3.5297240554053816e-14},\n",
       "  {'language': 'ps', 'confidence': 3.3975824596099605e-14},\n",
       "  {'language': 'ms', 'confidence': 3.2802874749693863e-14},\n",
       "  {'language': 'ta', 'confidence': 3.26244246368457e-14},\n",
       "  {'language': 'ku', 'confidence': 2.936970181381775e-14},\n",
       "  {'language': 'tr', 'confidence': 2.7065346099280755e-14},\n",
       "  {'language': 'cy', 'confidence': 2.632732317414906e-14},\n",
       "  {'language': 'ja', 'confidence': 2.4385291962721055e-14},\n",
       "  {'language': 'eu', 'confidence': 2.354129009294916e-14},\n",
       "  {'language': 'so', 'confidence': 2.235416350741581e-14},\n",
       "  {'language': 'vi', 'confidence': 2.2198557303306135e-14},\n",
       "  {'language': 'eo', 'confidence': 2.183887806015725e-14},\n",
       "  {'language': 'hu', 'confidence': 2.1765614152287044e-14},\n",
       "  {'language': 'sl', 'confidence': 2.1207086099926358e-14},\n",
       "  {'language': 'sq', 'confidence': 1.987209516233326e-14},\n",
       "  {'language': 'ar', 'confidence': 1.9846079920856833e-14},\n",
       "  {'language': 'el', 'confidence': 1.9028174225311564e-14},\n",
       "  {'language': 'af', 'confidence': 1.854352091119117e-14},\n",
       "  {'language': 'cs', 'confidence': 1.7123611685560968e-14},\n",
       "  {'language': 'hr', 'confidence': 1.4202688653101294e-14},\n",
       "  {'language': 'ro', 'confidence': 1.3508775264032004e-14},\n",
       "  {'language': 'is', 'confidence': 1.3288113322864608e-14},\n",
       "  {'language': 'fi', 'confidence': 1.3263171735848399e-14},\n",
       "  {'language': 'pl', 'confidence': 1.1949478839033066e-14},\n",
       "  {'language': 'sk', 'confidence': 1.1493554041974821e-14},\n",
       "  {'language': 'da', 'confidence': 1.1427579361650004e-14},\n",
       "  {'language': 'fa', 'confidence': 1.1048058872613553e-14},\n",
       "  {'language': 'es', 'confidence': 1.0923853559016441e-14},\n",
       "  {'language': 'nn', 'confidence': 1.0067333003125082e-14},\n",
       "  {'language': 'pt', 'confidence': 9.6311943234823e-15},\n",
       "  {'language': 'nb', 'confidence': 9.480980152658134e-15},\n",
       "  {'language': 'sv', 'confidence': 7.524172245529852e-15},\n",
       "  {'language': 'de', 'confidence': 5.526792406456175e-15},\n",
       "  {'language': 'nl', 'confidence': 4.761706651087072e-15},\n",
       "  {'language': 'fr', 'confidence': 4.5106863598376365e-15},\n",
       "  {'language': 'it', 'confidence': 4.472329358227327e-15},\n",
       "  {'language': 'en', 'confidence': 6.964463351545338e-16}]}"
      ]
     },
     "execution_count": 9,
     "metadata": {},
     "output_type": "execute_result"
    }
   ],
   "source": [
    "language"
   ]
  },
  {
   "cell_type": "markdown",
   "metadata": {},
   "source": [
    "#### 4. AI Travel Guide"
   ]
  },
  {
   "cell_type": "code",
   "execution_count": 16,
   "metadata": {},
   "outputs": [],
   "source": [
    "#update for language translator\n",
    "ttsapikey = 'Update key'\n",
    "ttsurl = 'Update url'"
   ]
  },
  {
   "cell_type": "code",
   "execution_count": 11,
   "metadata": {},
   "outputs": [],
   "source": [
    "from ibm_watson import TextToSpeechV1"
   ]
  },
  {
   "cell_type": "code",
   "execution_count": 12,
   "metadata": {},
   "outputs": [],
   "source": [
    "# Authenticate\n",
    "ttsauthenticator = IAMAuthenticator(ttsapikey)\n",
    "tts = TextToSpeechV1(authenticator=ttsauthenticator)\n",
    "tts.set_service_url(ttsurl)"
   ]
  },
  {
   "cell_type": "code",
   "execution_count": 13,
   "metadata": {},
   "outputs": [],
   "source": [
    "# we just need to change the from and to language code from the below link \n",
    "#https://cloud.ibm.com/docs/language-translator?topic=language-translator-translation-models\n",
    "\n",
    "translation = lt.translate(text='We are sinking! Please send help!', model_id='en-zh').get_result()"
   ]
  },
  {
   "cell_type": "code",
   "execution_count": 14,
   "metadata": {},
   "outputs": [
    {
     "data": {
      "text/plain": [
       "'我们正在下沉 请发送帮助 !'"
      ]
     },
     "execution_count": 14,
     "metadata": {},
     "output_type": "execute_result"
    }
   ],
   "source": [
    "text = translation['translations'][0]['translation']\n",
    "text"
   ]
  },
  {
   "cell_type": "code",
   "execution_count": 15,
   "metadata": {},
   "outputs": [],
   "source": [
    "# from the link https://cloud.ibm.com/docs/text-to-speech?topic=text-to-speech-voices\n",
    "#check if the voice used here is currently deprecated or you might get an error\n",
    "\n",
    "with open('./help.mp3', 'wb') as audio_file:\n",
    "    res = tts.synthesize(text, accept='audio/mp3', voice='en-GB_CharlotteV3Voice').get_result()\n",
    "    audio_file.write(res.content)"
   ]
  },
  {
   "cell_type": "code",
   "execution_count": null,
   "metadata": {},
   "outputs": [],
   "source": []
  }
 ],
 "metadata": {
  "kernelspec": {
   "display_name": "Python 3 (ipykernel)",
   "language": "python",
   "name": "python3"
  },
  "language_info": {
   "codemirror_mode": {
    "name": "ipython",
    "version": 3
   },
   "file_extension": ".py",
   "mimetype": "text/x-python",
   "name": "python",
   "nbconvert_exporter": "python",
   "pygments_lexer": "ipython3",
   "version": "3.9.12"
  },
  "vscode": {
   "interpreter": {
    "hash": "ad59e3735c180bf85280840859ca597dc2a71cb0dc18ffef2f37486fd3950a17"
   }
  }
 },
 "nbformat": 4,
 "nbformat_minor": 2
}
