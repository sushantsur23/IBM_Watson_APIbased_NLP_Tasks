{
 "cells": [
  {
   "cell_type": "markdown",
   "metadata": {},
   "source": [
    "https://cloud.ibm.com/catalog/services/language-translator"
   ]
  },
  {
   "cell_type": "code",
   "execution_count": 1,
   "metadata": {},
   "outputs": [
    {
     "name": "stdout",
     "output_type": "stream",
     "text": [
      "Requirement already satisfied: ibm_watson in c:\\users\\susha\\miniconda3\\lib\\site-packages (6.1.0)\n",
      "Requirement already satisfied: python-dateutil>=2.5.3 in c:\\users\\susha\\miniconda3\\lib\\site-packages (from ibm_watson) (2.8.2)\n",
      "Requirement already satisfied: requests<3.0,>=2.0 in c:\\users\\susha\\miniconda3\\lib\\site-packages (from ibm_watson) (2.27.1)\n",
      "Requirement already satisfied: ibm-cloud-sdk-core==3.*,>=3.3.6 in c:\\users\\susha\\miniconda3\\lib\\site-packages (from ibm_watson) (3.16.0)\n",
      "Requirement already satisfied: websocket-client==1.1.0 in c:\\users\\susha\\miniconda3\\lib\\site-packages (from ibm_watson) (1.1.0)\n",
      "Requirement already satisfied: urllib3<2.0.0,>=1.26.0 in c:\\users\\susha\\miniconda3\\lib\\site-packages (from ibm-cloud-sdk-core==3.*,>=3.3.6->ibm_watson) (1.26.6)\n",
      "Requirement already satisfied: PyJWT<3.0.0,>=2.4.0 in c:\\users\\susha\\miniconda3\\lib\\site-packages (from ibm-cloud-sdk-core==3.*,>=3.3.6->ibm_watson) (2.4.0)\n",
      "Requirement already satisfied: six>=1.5 in c:\\users\\susha\\miniconda3\\lib\\site-packages (from python-dateutil>=2.5.3->ibm_watson) (1.16.0)\n",
      "Requirement already satisfied: certifi>=2017.4.17 in c:\\users\\susha\\miniconda3\\lib\\site-packages (from requests<3.0,>=2.0->ibm_watson) (2021.5.30)\n",
      "Requirement already satisfied: idna<4,>=2.5 in c:\\users\\susha\\miniconda3\\lib\\site-packages (from requests<3.0,>=2.0->ibm_watson) (2.10)\n",
      "Requirement already satisfied: charset-normalizer~=2.0.0 in c:\\users\\susha\\miniconda3\\lib\\site-packages (from requests<3.0,>=2.0->ibm_watson) (2.0.4)\n"
     ]
    }
   ],
   "source": [
    "!pip install ibm_watson"
   ]
  },
  {
   "cell_type": "markdown",
   "metadata": {},
   "source": [
    "#### 1. Authenticate"
   ]
  },
  {
   "cell_type": "code",
   "execution_count": 2,
   "metadata": {},
   "outputs": [],
   "source": [
    "ltapikey = 'Language translator API Key'\n",
    "lturl = 'Language translator URL'\n",
    "sttapikey = 'Speech to text API'\n",
    "stturl = 'Speech to text URL'"
   ]
  },
  {
   "cell_type": "code",
   "execution_count": 3,
   "metadata": {},
   "outputs": [],
   "source": [
    "# import deps\n",
    "from ibm_watson import SpeechToTextV1, LanguageTranslatorV3\n",
    "from ibm_cloud_sdk_core.authenticators import IAMAuthenticator"
   ]
  },
  {
   "cell_type": "code",
   "execution_count": 4,
   "metadata": {},
   "outputs": [],
   "source": [
    "ltauthenticator = IAMAuthenticator(ltapikey)\n",
    "lt = LanguageTranslatorV3(version='2018-05-01', authenticator=ltauthenticator)\n",
    "lt.set_service_url(lturl)"
   ]
  },
  {
   "cell_type": "code",
   "execution_count": 5,
   "metadata": {},
   "outputs": [],
   "source": [
    "sttauthenticator = IAMAuthenticator(sttapikey)\n",
    "stt = SpeechToTextV1(authenticator=sttauthenticator)\n",
    "stt.set_service_url(stturl)"
   ]
  },
  {
   "cell_type": "markdown",
   "metadata": {},
   "source": [
    "#### 2. Speech to Text"
   ]
  },
  {
   "cell_type": "code",
   "execution_count": 6,
   "metadata": {},
   "outputs": [],
   "source": [
    "with open('help.mp3', 'rb') as f:\n",
    "    res = stt.recognize(audio=f, content_type='audio/mp3', model='en-AU_NarrowbandModel').get_result()"
   ]
  },
  {
   "cell_type": "code",
   "execution_count": 7,
   "metadata": {},
   "outputs": [
    {
     "data": {
      "text/plain": [
       "'by grubs the left parenthesis divided by any dot copy right exclamation point '"
      ]
     },
     "execution_count": 7,
     "metadata": {},
     "output_type": "execute_result"
    }
   ],
   "source": [
    "voicetext = res['results'][0]['alternatives'][0]['transcript']\n",
    "voicetext"
   ]
  },
  {
   "cell_type": "markdown",
   "metadata": {},
   "source": [
    "#### 3. Text Translation"
   ]
  },
  {
   "cell_type": "code",
   "execution_count": 8,
   "metadata": {},
   "outputs": [],
   "source": [
    "greek = 'en-el'\n",
    "chinese = 'en-zh'\n",
    "hindi = 'en-hi'"
   ]
  },
  {
   "cell_type": "markdown",
   "metadata": {},
   "source": [
    "#Languages supported are as per below link\n",
    "https://cloud.ibm.com/docs/text-to-speech?topic=text-to-speech-voices"
   ]
  },
  {
   "cell_type": "code",
   "execution_count": 17,
   "metadata": {},
   "outputs": [
    {
     "data": {
      "text/plain": [
       "{'translation': 'जब बाईं ओर का कोष्ठक किसी भी डॉट कॉपी राइट एक्सप्मेशन प्वाइंट द्वारा विभाजित होता है '}"
      ]
     },
     "execution_count": 17,
     "metadata": {},
     "output_type": "execute_result"
    }
   ],
   "source": [
    "translation = lt.translate(text=voicetext, model_id=hindi).get_result()\n",
    "translatedtext = translation['translations'][0]\n",
    "translatedtext"
   ]
  },
  {
   "cell_type": "markdown",
   "metadata": {},
   "source": [
    "#### 4. Output Translation"
   ]
  },
  {
   "cell_type": "code",
   "execution_count": 18,
   "metadata": {},
   "outputs": [],
   "source": [
    "with open('result.txt', 'w') as out:\n",
    "    out.writelines(translatedtext)"
   ]
  },
  {
   "cell_type": "code",
   "execution_count": null,
   "metadata": {},
   "outputs": [],
   "source": []
  }
 ],
 "metadata": {
  "kernelspec": {
   "display_name": "Python 3 (ipykernel)",
   "language": "python",
   "name": "python3"
  },
  "language_info": {
   "codemirror_mode": {
    "name": "ipython",
    "version": 3
   },
   "file_extension": ".py",
   "mimetype": "text/x-python",
   "name": "python",
   "nbconvert_exporter": "python",
   "pygments_lexer": "ipython3",
   "version": "3.9.12"
  },
  "vscode": {
   "interpreter": {
    "hash": "ad59e3735c180bf85280840859ca597dc2a71cb0dc18ffef2f37486fd3950a17"
   }
  }
 },
 "nbformat": 4,
 "nbformat_minor": 2
}
